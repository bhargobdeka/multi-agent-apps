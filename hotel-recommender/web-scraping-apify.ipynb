{
 "cells": [
  {
   "cell_type": "code",
   "execution_count": 1,
   "metadata": {},
   "outputs": [],
   "source": [
    "# Warning control\n",
    "import warnings\n",
    "warnings.filterwarnings('ignore')"
   ]
  },
  {
   "cell_type": "code",
   "execution_count": 3,
   "metadata": {},
   "outputs": [],
   "source": [
    "import os\n",
    "from dotenv import load_dotenv, find_dotenv\n",
    "\n",
    "load_dotenv(find_dotenv()) # important line if cannot load api key\n",
    "\n",
    "## Getting the APIFY api key from the .env file\n",
    "os.environ[\"APIFY_API_TOKEN\"] = os.getenv('APIFY_API_TOKEN')\n",
    "\n",
    "# print to check!\n",
    "# print(os.environ[\"APIFY_API_TOKEN\"])"
   ]
  },
  {
   "cell_type": "code",
   "execution_count": null,
   "metadata": {},
   "outputs": [],
   "source": [
    "from langchain_community.utilities import ApifyWrapper\n",
    "from langchain_core.documents import Document\n",
    "\n",
    "# Initialize the ApifyWrapper\n",
    "apify = ApifyWrapper()\n",
    "\n",
    "def create_booking_loader():\n",
    "    return apify.call_actor(\n",
    "        actor_id=\"voyager/booking-scraper\",\n",
    "        run_input={\n",
    "            \"search\": \"Brampton, ON\",\n",
    "            \"checkIn\": \"2024-08-23\",\n",
    "            \"checkOut\": \"2024-08-25\",\n",
    "            \"adults\": 8,  # 4 couples\n",
    "            \"children\": 0,\n",
    "            \"rooms\": 4,  # 4 rooms for 4 couples\n",
    "            \"currency\": \"CAD\",\n",
    "            \"language\": \"en-us\",\n",
    "            \"maxPages\": 1\n",
    "        },\n",
    "        dataset_mapping_function=lambda item: Document(\n",
    "            page_content=f\"Hotel: {item['name']}\\nPrice: {item['price']}\\nRating: {item['rating']}\\nAddress: {item['address']}\\nDescription: {item['description']}\",\n",
    "            metadata={\"url\": item[\"url\"], \"source\": \"Booking.com\"}\n",
    "        )\n",
    "    )\n",
    "\n",
    "# Use the loader\n",
    "loader = create_booking_loader()\n",
    "\n",
    "# Load the data\n",
    "data = loader.load()\n",
    "\n",
    "print(data)"
   ]
  }
 ],
 "metadata": {
  "kernelspec": {
   "display_name": "env",
   "language": "python",
   "name": "python3"
  },
  "language_info": {
   "codemirror_mode": {
    "name": "ipython",
    "version": 3
   },
   "file_extension": ".py",
   "mimetype": "text/x-python",
   "name": "python",
   "nbconvert_exporter": "python",
   "pygments_lexer": "ipython3",
   "version": "3.10.14"
  }
 },
 "nbformat": 4,
 "nbformat_minor": 2
}
