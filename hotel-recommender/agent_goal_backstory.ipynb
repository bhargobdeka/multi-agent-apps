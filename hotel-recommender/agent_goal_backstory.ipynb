{
 "cells": [
  {
   "cell_type": "code",
   "execution_count": 15,
   "metadata": {},
   "outputs": [],
   "source": [
    "from langchain.agents import AgentExecutor, create_react_agent, Tool\n",
    "from langchain_openai import OpenAI\n",
    "from langchain.prompts import PromptTemplate\n",
    "from langchain_community.tools import DuckDuckGoSearchRun\n",
    "from langchain import hub"
   ]
  },
  {
   "cell_type": "code",
   "execution_count": 27,
   "metadata": {},
   "outputs": [
    {
     "name": "stdout",
     "output_type": "stream",
     "text": [
      "input_variables=['agent_scratchpad', 'input', 'tool_names', 'tools'] metadata={'lc_hub_owner': 'hwchase17', 'lc_hub_repo': 'react', 'lc_hub_commit_hash': 'd15fe3c426f1c4b3f37c9198853e4a86e20c425ca7f4752ec0c9b0e97ca7ea4d'} template='Answer the following questions as best you can. You have access to the following tools:\\n\\n{tools}\\n\\nUse the following format:\\n\\nQuestion: the input question you must answer\\nThought: you should always think about what to do\\nAction: the action to take, should be one of [{tool_names}]\\nAction Input: the input to the action\\nObservation: the result of the action\\n... (this Thought/Action/Action Input/Observation can repeat N times)\\nThought: I now know the final answer\\nFinal Answer: the final answer to the original input question\\n\\nBegin!\\n\\nQuestion: {input}\\nThought:{agent_scratchpad}'\n"
     ]
    }
   ],
   "source": [
    "llm = OpenAI(temperature=0) # temperature=0.7\n",
    "    \n",
    "\n",
    "# Get the prompt to use - you can modify this!\n",
    "prompt = hub.pull(\"hwchase17/react\")\n",
    "\n",
    "print(prompt)\n",
    "\n",
    "# prompt = PromptTemplate(\n",
    "#     input_variables=[\"role\"],\n",
    "#     template=\"\"\"\n",
    "#     Given the role of {role}, please provide:\n",
    "#     1. A clear and specific goal for this agent\n",
    "#     2. A detailed backstory that explains the agent's qualifications and experience\n",
    "\n",
    "#     Goal:\n",
    "#     Backstory:\n",
    "#     \"\"\"\n",
    "# )"
   ]
  },
  {
   "cell_type": "code",
   "execution_count": 22,
   "metadata": {},
   "outputs": [],
   "source": [
    "search_tool = DuckDuckGoSearchRun()"
   ]
  },
  {
   "cell_type": "code",
   "execution_count": 23,
   "metadata": {},
   "outputs": [],
   "source": [
    "# tools\n",
    "tools = [search_tool]\n",
    "\n",
    "# Construct the ReAct agent\n",
    "agent = create_react_agent(llm, tools, prompt)\n"
   ]
  },
  {
   "cell_type": "code",
   "execution_count": 24,
   "metadata": {},
   "outputs": [],
   "source": [
    "# Create an agent executor by passing in the agent and tools\n",
    "agent_executor = AgentExecutor(agent=agent, tools=tools, verbose=True)"
   ]
  },
  {
   "cell_type": "code",
   "execution_count": 25,
   "metadata": {},
   "outputs": [
    {
     "name": "stdout",
     "output_type": "stream",
     "text": [
      "\n",
      "\n",
      "\u001b[1m> Entering new AgentExecutor chain...\u001b[0m\n",
      "\u001b[32;1m\u001b[1;3m I should think about what kind of information would be relevant for a hotel researcher\n",
      "Action: duckduckgo_search\n",
      "Action Input: \"hotel researcher job description\"\u001b[0m\u001b[36;1m\u001b[1;3mLearn what a hotel reviewer is, how much these professionals make and how you can become one, including a few helpful tips for starting a career in this field. Build your own Researcher job description using our guide on the top Researcher skills, education, experience and more. Post your Researcher job today. Becoming a hotel tester allows you to turn your love of travel into an exciting career. With the right blend of skills, preparation, and perseverance, you can begin assessing top-tier hotels and resorts worldwide while being paid for your experiences. Follow this guide to understand hotel tester roles, build your industry profile, and uncover ... Explore 38 different hotel jobs and their earning potentials to help you find the hospitality, restaurant or event management role of your dreams. Find out what a Hospitality Consultant does, how to get this job, salary information, and what it takes to succeed as a Hospitality Consultant.\u001b[0m\u001b[32;1m\u001b[1;3mI now know the final answer\n",
      "Final Answer: A hotel researcher is a professional who assesses top-tier hotels and resorts worldwide while being paid for their experiences. They should have a strong understanding of the hospitality industry, excellent research skills, and the ability to provide detailed and unbiased reviews. To become a hotel researcher, one should have a background in hospitality, event management, or a related field, and have a strong passion for travel and exploring new places.\u001b[0m\n",
      "\n",
      "\u001b[1m> Finished chain.\u001b[0m\n",
      "{'input': 'Generates a goal and backstory for the agent role: Hotel Researcher', 'output': 'A hotel researcher is a professional who assesses top-tier hotels and resorts worldwide while being paid for their experiences. They should have a strong understanding of the hospitality industry, excellent research skills, and the ability to provide detailed and unbiased reviews. To become a hotel researcher, one should have a background in hospitality, event management, or a related field, and have a strong passion for travel and exploring new places.'}\n"
     ]
    }
   ],
   "source": [
    "query=\"Generates a goal and backstory for the agent role: Hotel Researcher\"\n",
    "\n",
    "result = agent_executor.invoke({\"input\": query})\n",
    "\n",
    "print(result)"
   ]
  },
  {
   "cell_type": "code",
   "execution_count": 26,
   "metadata": {},
   "outputs": [
    {
     "data": {
      "text/plain": [
       "'A hotel researcher is a professional who assesses top-tier hotels and resorts worldwide while being paid for their experiences. They should have a strong understanding of the hospitality industry, excellent research skills, and the ability to provide detailed and unbiased reviews. To become a hotel researcher, one should have a background in hospitality, event management, or a related field, and have a strong passion for travel and exploring new places.'"
      ]
     },
     "execution_count": 26,
     "metadata": {},
     "output_type": "execute_result"
    }
   ],
   "source": [
    "result['output']"
   ]
  }
 ],
 "metadata": {
  "kernelspec": {
   "display_name": "env",
   "language": "python",
   "name": "python3"
  },
  "language_info": {
   "codemirror_mode": {
    "name": "ipython",
    "version": 3
   },
   "file_extension": ".py",
   "mimetype": "text/x-python",
   "name": "python",
   "nbconvert_exporter": "python",
   "pygments_lexer": "ipython3",
   "version": "3.10.14"
  }
 },
 "nbformat": 4,
 "nbformat_minor": 2
}
